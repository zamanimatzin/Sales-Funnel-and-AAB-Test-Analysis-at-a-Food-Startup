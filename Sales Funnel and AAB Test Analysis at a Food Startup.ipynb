{
 "cells": [
  {
   "cell_type": "markdown",
   "id": "b5221f88",
   "metadata": {},
   "source": [
    "# Project Description\n",
    "You work at a startup that sells food products. You need to investigate user behavior for the\n",
    "company's app.\n",
    "\n",
    "First study the sales funnel. Find out how users reach the purchase stage. How many users\n",
    "actually make it to this stage? How many get stuck at previous stages? Which stages in\n",
    "particular?\n",
    "\n",
    "Then look at the results of an A/A/B test. (Read on for more information about A/A/B testing.)\n",
    "The designers would like to change the fonts for the entire app, but the managers are afraid the\n",
    "users might find the new design intimidating. They decide to make a decision based on the\n",
    "results of an A/A/B test.\n",
    "\n",
    "The users are split into three groups: two control groups get the old fonts and one test group gets\n",
    "the new ones. Find out which set of fonts produces better results.\n",
    "\n",
    "Creating two A groups has certain advantages. We can make it a principle that we will only be\n",
    "confident in the accuracy of our testing when the two control groups are similar. If there are\n",
    "significant differences between the A groups, this can help us uncover factors that may be\n",
    "distorting the results. Comparing control groups also tells us how much time and data we'll need\n",
    "when running further tests.\n",
    "\n",
    "You'll be using the same dataset for general analytics and for A/A/B analysis. In real projects,\n",
    "experiments are constantly being conducted. Analysts study the quality of an app using general\n",
    "data, without paying attention to whether users are participating in experiments."
   ]
  },
  {
   "cell_type": "markdown",
   "id": "0622ce81",
   "metadata": {},
   "source": [
    "# Initialization"
   ]
  },
  {
   "cell_type": "markdown",
   "id": "799151c6",
   "metadata": {},
   "source": [
    "Loading Libraries"
   ]
  },
  {
   "cell_type": "code",
   "execution_count": 1,
   "id": "1dd0180b",
   "metadata": {
    "ExecuteTime": {
     "end_time": "2023-09-13T01:57:26.348396Z",
     "start_time": "2023-09-13T01:57:24.451046Z"
    }
   },
   "outputs": [],
   "source": [
    "import pandas as pd\n",
    "import matplotlib.pyplot as plt\n",
    "from scipy import stats as st\n",
    "import numpy as np\n",
    "import math "
   ]
  },
  {
   "cell_type": "markdown",
   "id": "c1d1ac88",
   "metadata": {},
   "source": [
    "Loading dataframe"
   ]
  },
  {
   "cell_type": "code",
   "execution_count": 2,
   "id": "c1935ed2",
   "metadata": {
    "ExecuteTime": {
     "end_time": "2023-09-13T01:57:26.474274Z",
     "start_time": "2023-09-13T01:57:26.349396Z"
    }
   },
   "outputs": [],
   "source": [
    "logs = pd.read_csv(\"datasets/logs_exp_us.csv\",sep='\\t')"
   ]
  },
  {
   "cell_type": "markdown",
   "id": "cebcd2dc",
   "metadata": {},
   "source": [
    "# Data preparation"
   ]
  },
  {
   "cell_type": "markdown",
   "id": "74264315",
   "metadata": {},
   "source": [
    "## Reviewing data"
   ]
  },
  {
   "cell_type": "markdown",
   "id": "c5c50370",
   "metadata": {},
   "source": [
    "Understanding the data"
   ]
  },
  {
   "cell_type": "code",
   "execution_count": 3,
   "id": "5937761f",
   "metadata": {
    "ExecuteTime": {
     "end_time": "2023-09-13T01:57:26.489521Z",
     "start_time": "2023-09-13T01:57:26.475273Z"
    }
   },
   "outputs": [
    {
     "data": {
      "text/html": [
       "<div>\n",
       "<style scoped>\n",
       "    .dataframe tbody tr th:only-of-type {\n",
       "        vertical-align: middle;\n",
       "    }\n",
       "\n",
       "    .dataframe tbody tr th {\n",
       "        vertical-align: top;\n",
       "    }\n",
       "\n",
       "    .dataframe thead th {\n",
       "        text-align: right;\n",
       "    }\n",
       "</style>\n",
       "<table border=\"1\" class=\"dataframe\">\n",
       "  <thead>\n",
       "    <tr style=\"text-align: right;\">\n",
       "      <th></th>\n",
       "      <th>EventName</th>\n",
       "      <th>DeviceIDHash</th>\n",
       "      <th>EventTimestamp</th>\n",
       "      <th>ExpId</th>\n",
       "    </tr>\n",
       "  </thead>\n",
       "  <tbody>\n",
       "    <tr>\n",
       "      <th>0</th>\n",
       "      <td>MainScreenAppear</td>\n",
       "      <td>4575588528974610257</td>\n",
       "      <td>1564029816</td>\n",
       "      <td>246</td>\n",
       "    </tr>\n",
       "    <tr>\n",
       "      <th>1</th>\n",
       "      <td>MainScreenAppear</td>\n",
       "      <td>7416695313311560658</td>\n",
       "      <td>1564053102</td>\n",
       "      <td>246</td>\n",
       "    </tr>\n",
       "    <tr>\n",
       "      <th>2</th>\n",
       "      <td>PaymentScreenSuccessful</td>\n",
       "      <td>3518123091307005509</td>\n",
       "      <td>1564054127</td>\n",
       "      <td>248</td>\n",
       "    </tr>\n",
       "    <tr>\n",
       "      <th>3</th>\n",
       "      <td>CartScreenAppear</td>\n",
       "      <td>3518123091307005509</td>\n",
       "      <td>1564054127</td>\n",
       "      <td>248</td>\n",
       "    </tr>\n",
       "    <tr>\n",
       "      <th>4</th>\n",
       "      <td>PaymentScreenSuccessful</td>\n",
       "      <td>6217807653094995999</td>\n",
       "      <td>1564055322</td>\n",
       "      <td>248</td>\n",
       "    </tr>\n",
       "    <tr>\n",
       "      <th>...</th>\n",
       "      <td>...</td>\n",
       "      <td>...</td>\n",
       "      <td>...</td>\n",
       "      <td>...</td>\n",
       "    </tr>\n",
       "    <tr>\n",
       "      <th>244121</th>\n",
       "      <td>MainScreenAppear</td>\n",
       "      <td>4599628364049201812</td>\n",
       "      <td>1565212345</td>\n",
       "      <td>247</td>\n",
       "    </tr>\n",
       "    <tr>\n",
       "      <th>244122</th>\n",
       "      <td>MainScreenAppear</td>\n",
       "      <td>5849806612437486590</td>\n",
       "      <td>1565212439</td>\n",
       "      <td>246</td>\n",
       "    </tr>\n",
       "    <tr>\n",
       "      <th>244123</th>\n",
       "      <td>MainScreenAppear</td>\n",
       "      <td>5746969938801999050</td>\n",
       "      <td>1565212483</td>\n",
       "      <td>246</td>\n",
       "    </tr>\n",
       "    <tr>\n",
       "      <th>244124</th>\n",
       "      <td>MainScreenAppear</td>\n",
       "      <td>5746969938801999050</td>\n",
       "      <td>1565212498</td>\n",
       "      <td>246</td>\n",
       "    </tr>\n",
       "    <tr>\n",
       "      <th>244125</th>\n",
       "      <td>OffersScreenAppear</td>\n",
       "      <td>5746969938801999050</td>\n",
       "      <td>1565212517</td>\n",
       "      <td>246</td>\n",
       "    </tr>\n",
       "  </tbody>\n",
       "</table>\n",
       "<p>244126 rows × 4 columns</p>\n",
       "</div>"
      ],
      "text/plain": [
       "                      EventName         DeviceIDHash  EventTimestamp  ExpId\n",
       "0              MainScreenAppear  4575588528974610257      1564029816    246\n",
       "1              MainScreenAppear  7416695313311560658      1564053102    246\n",
       "2       PaymentScreenSuccessful  3518123091307005509      1564054127    248\n",
       "3              CartScreenAppear  3518123091307005509      1564054127    248\n",
       "4       PaymentScreenSuccessful  6217807653094995999      1564055322    248\n",
       "...                         ...                  ...             ...    ...\n",
       "244121         MainScreenAppear  4599628364049201812      1565212345    247\n",
       "244122         MainScreenAppear  5849806612437486590      1565212439    246\n",
       "244123         MainScreenAppear  5746969938801999050      1565212483    246\n",
       "244124         MainScreenAppear  5746969938801999050      1565212498    246\n",
       "244125       OffersScreenAppear  5746969938801999050      1565212517    246\n",
       "\n",
       "[244126 rows x 4 columns]"
      ]
     },
     "execution_count": 3,
     "metadata": {},
     "output_type": "execute_result"
    }
   ],
   "source": [
    "logs"
   ]
  },
  {
   "cell_type": "code",
   "execution_count": 4,
   "id": "0eca72c0",
   "metadata": {
    "ExecuteTime": {
     "end_time": "2023-09-13T01:57:26.536272Z",
     "start_time": "2023-09-13T01:57:26.490521Z"
    }
   },
   "outputs": [
    {
     "name": "stdout",
     "output_type": "stream",
     "text": [
      "<class 'pandas.core.frame.DataFrame'>\n",
      "RangeIndex: 244126 entries, 0 to 244125\n",
      "Data columns (total 4 columns):\n",
      " #   Column          Non-Null Count   Dtype \n",
      "---  ------          --------------   ----- \n",
      " 0   EventName       244126 non-null  object\n",
      " 1   DeviceIDHash    244126 non-null  int64 \n",
      " 2   EventTimestamp  244126 non-null  int64 \n",
      " 3   ExpId           244126 non-null  int64 \n",
      "dtypes: int64(3), object(1)\n",
      "memory usage: 7.5+ MB\n"
     ]
    }
   ],
   "source": [
    "logs.info()"
   ]
  },
  {
   "cell_type": "code",
   "execution_count": 5,
   "id": "bcad623c",
   "metadata": {
    "ExecuteTime": {
     "end_time": "2023-09-13T01:57:26.567533Z",
     "start_time": "2023-09-13T01:57:26.537271Z"
    }
   },
   "outputs": [
    {
     "data": {
      "text/html": [
       "<div>\n",
       "<style scoped>\n",
       "    .dataframe tbody tr th:only-of-type {\n",
       "        vertical-align: middle;\n",
       "    }\n",
       "\n",
       "    .dataframe tbody tr th {\n",
       "        vertical-align: top;\n",
       "    }\n",
       "\n",
       "    .dataframe thead th {\n",
       "        text-align: right;\n",
       "    }\n",
       "</style>\n",
       "<table border=\"1\" class=\"dataframe\">\n",
       "  <thead>\n",
       "    <tr style=\"text-align: right;\">\n",
       "      <th></th>\n",
       "      <th>DeviceIDHash</th>\n",
       "      <th>EventTimestamp</th>\n",
       "      <th>ExpId</th>\n",
       "    </tr>\n",
       "  </thead>\n",
       "  <tbody>\n",
       "    <tr>\n",
       "      <th>count</th>\n",
       "      <td>2.441260e+05</td>\n",
       "      <td>2.441260e+05</td>\n",
       "      <td>244126.000000</td>\n",
       "    </tr>\n",
       "    <tr>\n",
       "      <th>mean</th>\n",
       "      <td>4.627568e+18</td>\n",
       "      <td>1.564914e+09</td>\n",
       "      <td>247.022296</td>\n",
       "    </tr>\n",
       "    <tr>\n",
       "      <th>std</th>\n",
       "      <td>2.642425e+18</td>\n",
       "      <td>1.771343e+05</td>\n",
       "      <td>0.824434</td>\n",
       "    </tr>\n",
       "    <tr>\n",
       "      <th>min</th>\n",
       "      <td>6.888747e+15</td>\n",
       "      <td>1.564030e+09</td>\n",
       "      <td>246.000000</td>\n",
       "    </tr>\n",
       "    <tr>\n",
       "      <th>25%</th>\n",
       "      <td>2.372212e+18</td>\n",
       "      <td>1.564757e+09</td>\n",
       "      <td>246.000000</td>\n",
       "    </tr>\n",
       "    <tr>\n",
       "      <th>50%</th>\n",
       "      <td>4.623192e+18</td>\n",
       "      <td>1.564919e+09</td>\n",
       "      <td>247.000000</td>\n",
       "    </tr>\n",
       "    <tr>\n",
       "      <th>75%</th>\n",
       "      <td>6.932517e+18</td>\n",
       "      <td>1.565075e+09</td>\n",
       "      <td>248.000000</td>\n",
       "    </tr>\n",
       "    <tr>\n",
       "      <th>max</th>\n",
       "      <td>9.222603e+18</td>\n",
       "      <td>1.565213e+09</td>\n",
       "      <td>248.000000</td>\n",
       "    </tr>\n",
       "  </tbody>\n",
       "</table>\n",
       "</div>"
      ],
      "text/plain": [
       "       DeviceIDHash  EventTimestamp          ExpId\n",
       "count  2.441260e+05    2.441260e+05  244126.000000\n",
       "mean   4.627568e+18    1.564914e+09     247.022296\n",
       "std    2.642425e+18    1.771343e+05       0.824434\n",
       "min    6.888747e+15    1.564030e+09     246.000000\n",
       "25%    2.372212e+18    1.564757e+09     246.000000\n",
       "50%    4.623192e+18    1.564919e+09     247.000000\n",
       "75%    6.932517e+18    1.565075e+09     248.000000\n",
       "max    9.222603e+18    1.565213e+09     248.000000"
      ]
     },
     "execution_count": 5,
     "metadata": {},
     "output_type": "execute_result"
    }
   ],
   "source": [
    "logs.describe()"
   ]
  },
  {
   "cell_type": "code",
   "execution_count": 6,
   "id": "180a3431",
   "metadata": {
    "ExecuteTime": {
     "end_time": "2023-09-13T01:57:26.613653Z",
     "start_time": "2023-09-13T01:57:26.568561Z"
    },
    "scrolled": true
   },
   "outputs": [
    {
     "data": {
      "text/plain": [
       "413"
      ]
     },
     "execution_count": 6,
     "metadata": {},
     "output_type": "execute_result"
    }
   ],
   "source": [
    "logs.duplicated().sum()"
   ]
  },
  {
   "cell_type": "code",
   "execution_count": 7,
   "id": "1d0fe89d",
   "metadata": {
    "ExecuteTime": {
     "end_time": "2023-09-13T01:57:26.645102Z",
     "start_time": "2023-09-13T01:57:26.615155Z"
    }
   },
   "outputs": [
    {
     "data": {
      "text/plain": [
       "EventName         0\n",
       "DeviceIDHash      0\n",
       "EventTimestamp    0\n",
       "ExpId             0\n",
       "dtype: int64"
      ]
     },
     "execution_count": 7,
     "metadata": {},
     "output_type": "execute_result"
    }
   ],
   "source": [
    "logs.isnull().sum()"
   ]
  },
  {
   "cell_type": "markdown",
   "id": "8434bd0e",
   "metadata": {},
   "source": [
    "Data types looks okay. But the columns need too rename for easy to understand and analyse. Need to drop the duplicated row.\n",
    "\n",
    "Fix: \n",
    "- Rename the columns in a way that's convenient for you\n",
    "- Add a date and time column and a separate column for dates\n",
    "- Drop the duplicated rows"
   ]
  },
  {
   "cell_type": "markdown",
   "id": "cd9c5e74",
   "metadata": {},
   "source": [
    "## Fix data"
   ]
  },
  {
   "cell_type": "markdown",
   "id": "7591428f",
   "metadata": {},
   "source": [
    "Rename the columns"
   ]
  },
  {
   "cell_type": "code",
   "execution_count": 8,
   "id": "eedf2aa6",
   "metadata": {
    "ExecuteTime": {
     "end_time": "2023-09-13T01:57:26.660698Z",
     "start_time": "2023-09-13T01:57:26.646135Z"
    }
   },
   "outputs": [
    {
     "data": {
      "text/plain": [
       "Index(['event_name', 'user_id', 'event_timestamp', 'exp_id'], dtype='object')"
      ]
     },
     "execution_count": 8,
     "metadata": {},
     "output_type": "execute_result"
    }
   ],
   "source": [
    "logs.columns = ['event_name','user_id','event_timestamp','exp_id']\n",
    "logs.columns"
   ]
  },
  {
   "cell_type": "markdown",
   "id": "61e3bd7f",
   "metadata": {},
   "source": [
    "Add a date and time column and a separate column for dates"
   ]
  },
  {
   "cell_type": "code",
   "execution_count": 9,
   "id": "ce5f997b",
   "metadata": {
    "ExecuteTime": {
     "end_time": "2023-09-13T01:57:26.784080Z",
     "start_time": "2023-09-13T01:57:26.661699Z"
    }
   },
   "outputs": [],
   "source": [
    "# convert EventTimestamp column to datetime format\n",
    "logs['datetime'] = pd.to_datetime(logs['event_timestamp'], unit='s')\n",
    "\n",
    "# separate date and time into two columns\n",
    "logs['date'] = logs['datetime'].dt.date\n",
    "logs['time'] = logs['datetime'].dt.time"
   ]
  },
  {
   "cell_type": "code",
   "execution_count": 10,
   "id": "cd9dc680",
   "metadata": {
    "ExecuteTime": {
     "end_time": "2023-09-13T01:57:26.800029Z",
     "start_time": "2023-09-13T01:57:26.786081Z"
    }
   },
   "outputs": [
    {
     "data": {
      "text/html": [
       "<div>\n",
       "<style scoped>\n",
       "    .dataframe tbody tr th:only-of-type {\n",
       "        vertical-align: middle;\n",
       "    }\n",
       "\n",
       "    .dataframe tbody tr th {\n",
       "        vertical-align: top;\n",
       "    }\n",
       "\n",
       "    .dataframe thead th {\n",
       "        text-align: right;\n",
       "    }\n",
       "</style>\n",
       "<table border=\"1\" class=\"dataframe\">\n",
       "  <thead>\n",
       "    <tr style=\"text-align: right;\">\n",
       "      <th></th>\n",
       "      <th>event_name</th>\n",
       "      <th>user_id</th>\n",
       "      <th>event_timestamp</th>\n",
       "      <th>exp_id</th>\n",
       "      <th>datetime</th>\n",
       "      <th>date</th>\n",
       "      <th>time</th>\n",
       "    </tr>\n",
       "  </thead>\n",
       "  <tbody>\n",
       "    <tr>\n",
       "      <th>0</th>\n",
       "      <td>MainScreenAppear</td>\n",
       "      <td>4575588528974610257</td>\n",
       "      <td>1564029816</td>\n",
       "      <td>246</td>\n",
       "      <td>2019-07-25 04:43:36</td>\n",
       "      <td>2019-07-25</td>\n",
       "      <td>04:43:36</td>\n",
       "    </tr>\n",
       "    <tr>\n",
       "      <th>1</th>\n",
       "      <td>MainScreenAppear</td>\n",
       "      <td>7416695313311560658</td>\n",
       "      <td>1564053102</td>\n",
       "      <td>246</td>\n",
       "      <td>2019-07-25 11:11:42</td>\n",
       "      <td>2019-07-25</td>\n",
       "      <td>11:11:42</td>\n",
       "    </tr>\n",
       "    <tr>\n",
       "      <th>2</th>\n",
       "      <td>PaymentScreenSuccessful</td>\n",
       "      <td>3518123091307005509</td>\n",
       "      <td>1564054127</td>\n",
       "      <td>248</td>\n",
       "      <td>2019-07-25 11:28:47</td>\n",
       "      <td>2019-07-25</td>\n",
       "      <td>11:28:47</td>\n",
       "    </tr>\n",
       "    <tr>\n",
       "      <th>3</th>\n",
       "      <td>CartScreenAppear</td>\n",
       "      <td>3518123091307005509</td>\n",
       "      <td>1564054127</td>\n",
       "      <td>248</td>\n",
       "      <td>2019-07-25 11:28:47</td>\n",
       "      <td>2019-07-25</td>\n",
       "      <td>11:28:47</td>\n",
       "    </tr>\n",
       "    <tr>\n",
       "      <th>4</th>\n",
       "      <td>PaymentScreenSuccessful</td>\n",
       "      <td>6217807653094995999</td>\n",
       "      <td>1564055322</td>\n",
       "      <td>248</td>\n",
       "      <td>2019-07-25 11:48:42</td>\n",
       "      <td>2019-07-25</td>\n",
       "      <td>11:48:42</td>\n",
       "    </tr>\n",
       "  </tbody>\n",
       "</table>\n",
       "</div>"
      ],
      "text/plain": [
       "                event_name              user_id  event_timestamp  exp_id  \\\n",
       "0         MainScreenAppear  4575588528974610257       1564029816     246   \n",
       "1         MainScreenAppear  7416695313311560658       1564053102     246   \n",
       "2  PaymentScreenSuccessful  3518123091307005509       1564054127     248   \n",
       "3         CartScreenAppear  3518123091307005509       1564054127     248   \n",
       "4  PaymentScreenSuccessful  6217807653094995999       1564055322     248   \n",
       "\n",
       "             datetime        date      time  \n",
       "0 2019-07-25 04:43:36  2019-07-25  04:43:36  \n",
       "1 2019-07-25 11:11:42  2019-07-25  11:11:42  \n",
       "2 2019-07-25 11:28:47  2019-07-25  11:28:47  \n",
       "3 2019-07-25 11:28:47  2019-07-25  11:28:47  \n",
       "4 2019-07-25 11:48:42  2019-07-25  11:48:42  "
      ]
     },
     "execution_count": 10,
     "metadata": {},
     "output_type": "execute_result"
    }
   ],
   "source": [
    "logs.head()"
   ]
  },
  {
   "cell_type": "markdown",
   "id": "8aa72762",
   "metadata": {},
   "source": [
    "Drop duplicated row"
   ]
  },
  {
   "cell_type": "code",
   "execution_count": 11,
   "id": "177a82ef",
   "metadata": {
    "ExecuteTime": {
     "end_time": "2023-09-13T01:57:26.926425Z",
     "start_time": "2023-09-13T01:57:26.801030Z"
    }
   },
   "outputs": [],
   "source": [
    "logs = logs.drop_duplicates()"
   ]
  },
  {
   "cell_type": "code",
   "execution_count": 12,
   "id": "8773f53f",
   "metadata": {
    "ExecuteTime": {
     "end_time": "2023-09-13T01:57:27.035167Z",
     "start_time": "2023-09-13T01:57:26.927426Z"
    }
   },
   "outputs": [
    {
     "data": {
      "text/plain": [
       "0"
      ]
     },
     "execution_count": 12,
     "metadata": {},
     "output_type": "execute_result"
    }
   ],
   "source": [
    "logs.duplicated().sum()"
   ]
  },
  {
   "cell_type": "markdown",
   "id": "7349ce83",
   "metadata": {},
   "source": [
    "Create copy"
   ]
  },
  {
   "cell_type": "code",
   "execution_count": 13,
   "id": "d3a471e0",
   "metadata": {
    "ExecuteTime": {
     "end_time": "2023-09-13T01:57:27.050544Z",
     "start_time": "2023-09-13T01:57:27.036168Z"
    }
   },
   "outputs": [],
   "source": [
    "logs_copy = logs.copy()"
   ]
  },
  {
   "cell_type": "markdown",
   "id": "98875091",
   "metadata": {},
   "source": [
    "# Analysing data"
   ]
  },
  {
   "cell_type": "markdown",
   "id": "d6d4543a",
   "metadata": {},
   "source": [
    "Step 3. Study and check the data\n",
    "\n",
    "- How many events are in the logs?\n",
    "- How many users are in the logs?\n",
    "- What's the average number of events per user?\n",
    "- What period of time does the data cover? Find the maximum and the minimum date. Plot a histogram by date and time. Can you be sure that you have equally complete data for the entire period? Older events could end up in some users' logs for technical reasons, and this could skew the overall picture. Find the moment at which the data starts to be complete and ignore the earlier section. What period does the data actually represent?\n",
    "- Did you lose many events and users when excluding the older data?\n",
    "- Make sure you have users from all three experimental groups."
   ]
  },
  {
   "cell_type": "markdown",
   "id": "7b571c5d",
   "metadata": {},
   "source": [
    "- How many events are in the logs? \n",
    "- How many users are in the logs?\n",
    "- What's the average number of events per user?"
   ]
  },
  {
   "cell_type": "markdown",
   "id": "109ac4f8",
   "metadata": {},
   "source": [
    "## Study the events and the users"
   ]
  },
  {
   "cell_type": "markdown",
   "id": "5aaee849",
   "metadata": {},
   "source": [
    "Find:\n",
    "- How many events are in the logs? \n",
    "- How many users are in the logs?\n",
    "- What's the average number of events per user?"
   ]
  },
  {
   "cell_type": "code",
   "execution_count": 14,
   "id": "b2341304",
   "metadata": {
    "ExecuteTime": {
     "end_time": "2023-09-13T01:57:27.066089Z",
     "start_time": "2023-09-13T01:57:27.051544Z"
    }
   },
   "outputs": [
    {
     "name": "stdout",
     "output_type": "stream",
     "text": [
      "Number of unique events: 243713\n",
      "Number of unique users: 7551\n",
      "Average number of events per user: 32.27559263673685\n"
     ]
    }
   ],
   "source": [
    "# Counting the number of events occur\n",
    "num_events = len(logs_copy['event_name'])\n",
    "\n",
    "# Counting the number of unique users\n",
    "num_users = len(logs_copy['user_id'].unique())\n",
    "\n",
    "# Calculating the average number of events per user\n",
    "avg_events_per_user = len(logs_copy) / num_users\n",
    "\n",
    "# Printing the results\n",
    "print(\"Number of unique events:\", num_events)\n",
    "print(\"Number of unique users:\", num_users)\n",
    "print(\"Average number of events per user:\", avg_events_per_user)"
   ]
  },
  {
   "cell_type": "markdown",
   "id": "3bb3a429",
   "metadata": {},
   "source": [
    "What period of time does the data cover? Find the maximum and the minimum date. Plot a\n",
    "histogram by date and time. Can you be sure that you have equally complete data for the entire\n",
    "period? Older events could end up in some users' logs for technical reasons, and this could skew\n",
    "the overall picture. Find the moment at which the data starts to be complete and ignore the\n",
    "earlier section. What period does the data actually represent?"
   ]
  },
  {
   "cell_type": "markdown",
   "id": "356450a6",
   "metadata": {},
   "source": [
    "## Study the timeframe"
   ]
  },
  {
   "cell_type": "markdown",
   "id": "3e60cdaa",
   "metadata": {},
   "source": [
    "Find max and min for date and timeframe"
   ]
  },
  {
   "cell_type": "code",
   "execution_count": 15,
   "id": "af209091",
   "metadata": {
    "ExecuteTime": {
     "end_time": "2023-09-13T01:57:27.082137Z",
     "start_time": "2023-09-13T01:57:27.067592Z"
    }
   },
   "outputs": [
    {
     "name": "stdout",
     "output_type": "stream",
     "text": [
      "Maximum Date : 2019-08-07 21:15:17\n",
      "Minimum Date : 2019-07-25 04:43:36\n"
     ]
    }
   ],
   "source": [
    "max_date = logs_copy['datetime'].max()\n",
    "min_date = logs_copy['datetime'].min()\n",
    "\n",
    "print ('Maximum Date :', max_date)\n",
    "print ('Minimum Date :', min_date)"
   ]
  },
  {
   "cell_type": "code",
   "execution_count": 16,
   "id": "82215cfb",
   "metadata": {
    "ExecuteTime": {
     "end_time": "2023-09-13T01:57:27.439970Z",
     "start_time": "2023-09-13T01:57:27.083183Z"
    }
   },
   "outputs": [
    {
     "data": {
      "text/plain": [
       "[]"
      ]
     },
     "execution_count": 16,
     "metadata": {},
     "output_type": "execute_result"
    },
    {
     "data": {
      "image/png": "[encoded data removed]",
      "text/plain": [
       "<Figure size 1200x500 with 1 Axes>"
      ]
     },
     "metadata": {},
     "output_type": "display_data"
    }
   ],
   "source": [
    "fig = plt.subplots(figsize =(12, 5))\n",
    "plt.grid()\n",
    "logs_copy['datetime'].hist(bins=100)\n",
    "plt.xticks(rotation=30)\n",
    "plt.plot()"
   ]
  },
  {
   "cell_type": "markdown",
   "id": "abfa5473",
   "metadata": {},
   "source": [
    "**Observation**\n",
    "\n",
    "From the histogram, app start to operate from 31 July. Lets see the fist date that complete all the events."
   ]
  },
  {
   "cell_type": "code",
   "execution_count": 17,
   "id": "6cdc94bf",
   "metadata": {
    "ExecuteTime": {
     "end_time": "2023-09-13T01:57:27.502564Z",
     "start_time": "2023-09-13T01:57:27.440970Z"
    }
   },
   "outputs": [
    {
     "data": {
      "text/html": [
       "<div>\n",
       "<style scoped>\n",
       "    .dataframe tbody tr th:only-of-type {\n",
       "        vertical-align: middle;\n",
       "    }\n",
       "\n",
       "    .dataframe tbody tr th {\n",
       "        vertical-align: top;\n",
       "    }\n",
       "\n",
       "    .dataframe thead th {\n",
       "        text-align: right;\n",
       "    }\n",
       "</style>\n",
       "<table border=\"1\" class=\"dataframe\">\n",
       "  <thead>\n",
       "    <tr style=\"text-align: right;\">\n",
       "      <th></th>\n",
       "      <th>date</th>\n",
       "      <th>event_name</th>\n",
       "    </tr>\n",
       "  </thead>\n",
       "  <tbody>\n",
       "    <tr>\n",
       "      <th>0</th>\n",
       "      <td>2019-07-25</td>\n",
       "      <td>4</td>\n",
       "    </tr>\n",
       "    <tr>\n",
       "      <th>1</th>\n",
       "      <td>2019-07-26</td>\n",
       "      <td>5</td>\n",
       "    </tr>\n",
       "    <tr>\n",
       "      <th>2</th>\n",
       "      <td>2019-07-27</td>\n",
       "      <td>5</td>\n",
       "    </tr>\n",
       "    <tr>\n",
       "      <th>3</th>\n",
       "      <td>2019-07-28</td>\n",
       "      <td>4</td>\n",
       "    </tr>\n",
       "    <tr>\n",
       "      <th>4</th>\n",
       "      <td>2019-07-29</td>\n",
       "      <td>4</td>\n",
       "    </tr>\n",
       "    <tr>\n",
       "      <th>5</th>\n",
       "      <td>2019-07-30</td>\n",
       "      <td>4</td>\n",
       "    </tr>\n",
       "    <tr>\n",
       "      <th>6</th>\n",
       "      <td>2019-07-31</td>\n",
       "      <td>5</td>\n",
       "    </tr>\n",
       "    <tr>\n",
       "      <th>7</th>\n",
       "      <td>2019-08-01</td>\n",
       "      <td>5</td>\n",
       "    </tr>\n",
       "    <tr>\n",
       "      <th>8</th>\n",
       "      <td>2019-08-02</td>\n",
       "      <td>5</td>\n",
       "    </tr>\n",
       "    <tr>\n",
       "      <th>9</th>\n",
       "      <td>2019-08-03</td>\n",
       "      <td>5</td>\n",
       "    </tr>\n",
       "    <tr>\n",
       "      <th>10</th>\n",
       "      <td>2019-08-04</td>\n",
       "      <td>5</td>\n",
       "    </tr>\n",
       "    <tr>\n",
       "      <th>11</th>\n",
       "      <td>2019-08-05</td>\n",
       "      <td>5</td>\n",
       "    </tr>\n",
       "    <tr>\n",
       "      <th>12</th>\n",
       "      <td>2019-08-06</td>\n",
       "      <td>5</td>\n",
       "    </tr>\n",
       "    <tr>\n",
       "      <th>13</th>\n",
       "      <td>2019-08-07</td>\n",
       "      <td>5</td>\n",
       "    </tr>\n",
       "  </tbody>\n",
       "</table>\n",
       "</div>"
      ],
      "text/plain": [
       "          date  event_name\n",
       "0   2019-07-25           4\n",
       "1   2019-07-26           5\n",
       "2   2019-07-27           5\n",
       "3   2019-07-28           4\n",
       "4   2019-07-29           4\n",
       "5   2019-07-30           4\n",
       "6   2019-07-31           5\n",
       "7   2019-08-01           5\n",
       "8   2019-08-02           5\n",
       "9   2019-08-03           5\n",
       "10  2019-08-04           5\n",
       "11  2019-08-05           5\n",
       "12  2019-08-06           5\n",
       "13  2019-08-07           5"
      ]
     },
     "execution_count": 17,
     "metadata": {},
     "output_type": "execute_result"
    }
   ],
   "source": [
    "subset_df = logs_copy[[\"event_name\", \"date\"]]\n",
    "unique_counts = subset_df.groupby(\"date\")[\"event_name\"].nunique().reset_index()\n",
    "unique_counts"
   ]
  },
  {
   "cell_type": "markdown",
   "id": "e561d5f0",
   "metadata": {},
   "source": [
    "**Observation**\n",
    "\n",
    "We can see that there's the day that events is not completed.The reason maybe there are try and error operation or any updated process happen in the app. we can see that 31 July, the events are completed and no updated occur after that. Therefore, 31 July is the start that. Now, 31 July is the started date until 7 August. From the histogram before, at 7 Aug,there is not completed 24 hours or 1 day. Therefore, the filtered data can we make is 7 days fully 24 hours."
   ]
  },
  {
   "cell_type": "markdown",
   "id": "90071cf3",
   "metadata": {},
   "source": [
    "Lets filtered data based on timeframe. The analysing timeframe are 1 week period for 24 hours."
   ]
  },
  {
   "cell_type": "code",
   "execution_count": 18,
   "id": "7843275a",
   "metadata": {
    "ExecuteTime": {
     "end_time": "2023-09-13T01:57:27.835116Z",
     "start_time": "2023-09-13T01:57:27.503565Z"
    }
   },
   "outputs": [
    {
     "data": {
      "text/plain": [
       "[]"
      ]
     },
     "execution_count": 18,
     "metadata": {},
     "output_type": "execute_result"
    },
    {
     "data": {
      "image/png": "[encoded data removed]",
      "text/plain": [
       "<Figure size 1200x500 with 1 Axes>"
      ]
     },
     "metadata": {},
     "output_type": "display_data"
    }
   ],
   "source": [
    "logs_filtered =  logs_copy[logs_copy['event_timestamp'] >= (1565212517-(7*24*60*60)+1)]\n",
    "\n",
    "fig = plt.subplots(figsize =(12, 5))\n",
    "plt.grid()\n",
    "logs_filtered['datetime'].hist(bins=168)\n",
    "plt.xticks(rotation=30)\n",
    "plt.plot()"
   ]
  },
  {
   "cell_type": "markdown",
   "id": "5191785a",
   "metadata": {},
   "source": [
    "Lets review the losses from the original data."
   ]
  },
  {
   "cell_type": "code",
   "execution_count": 19,
   "id": "e36e4358",
   "metadata": {
    "ExecuteTime": {
     "end_time": "2023-09-13T01:57:27.850918Z",
     "start_time": "2023-09-13T01:57:27.836116Z"
    }
   },
   "outputs": [
    {
     "data": {
      "text/html": [
       "<div>\n",
       "<style scoped>\n",
       "    .dataframe tbody tr th:only-of-type {\n",
       "        vertical-align: middle;\n",
       "    }\n",
       "\n",
       "    .dataframe tbody tr th {\n",
       "        vertical-align: top;\n",
       "    }\n",
       "\n",
       "    .dataframe thead th {\n",
       "        text-align: right;\n",
       "    }\n",
       "</style>\n",
       "<table border=\"1\" class=\"dataframe\">\n",
       "  <thead>\n",
       "    <tr style=\"text-align: right;\">\n",
       "      <th></th>\n",
       "      <th>logs</th>\n",
       "      <th>Number of events</th>\n",
       "      <th>Number of unique users</th>\n",
       "      <th>Average number of events per user</th>\n",
       "    </tr>\n",
       "  </thead>\n",
       "  <tbody>\n",
       "    <tr>\n",
       "      <th>0</th>\n",
       "      <td>old</td>\n",
       "      <td>243713.000000</td>\n",
       "      <td>7551.000000</td>\n",
       "      <td>32.275593</td>\n",
       "    </tr>\n",
       "    <tr>\n",
       "      <th>1</th>\n",
       "      <td>new</td>\n",
       "      <td>241657.000000</td>\n",
       "      <td>7538.000000</td>\n",
       "      <td>32.058504</td>\n",
       "    </tr>\n",
       "    <tr>\n",
       "      <th>2</th>\n",
       "      <td>difference</td>\n",
       "      <td>2056.000000</td>\n",
       "      <td>13.000000</td>\n",
       "      <td>0.217089</td>\n",
       "    </tr>\n",
       "    <tr>\n",
       "      <th>3</th>\n",
       "      <td>percentage_dif</td>\n",
       "      <td>0.843615</td>\n",
       "      <td>0.172163</td>\n",
       "      <td>0.672611</td>\n",
       "    </tr>\n",
       "  </tbody>\n",
       "</table>\n",
       "</div>"
      ],
      "text/plain": [
       "             logs  Number of events  Number of unique users  \\\n",
       "0             old     243713.000000             7551.000000   \n",
       "1             new     241657.000000             7538.000000   \n",
       "2      difference       2056.000000               13.000000   \n",
       "3  percentage_dif          0.843615                0.172163   \n",
       "\n",
       "   Average number of events per user  \n",
       "0                          32.275593  \n",
       "1                          32.058504  \n",
       "2                           0.217089  \n",
       "3                           0.672611  "
      ]
     },
     "execution_count": 19,
     "metadata": {},
     "output_type": "execute_result"
    }
   ],
   "source": [
    "# Counting the number of events occur\n",
    "filt_num_events = len(logs_filtered['event_name'])\n",
    "diff_num_events = num_events - filt_num_events\n",
    "perc_diff_events= diff_num_events/num_events *100\n",
    "\n",
    "# Counting the number of unique users\n",
    "filt_num_users = len(logs_filtered['user_id'].unique())\n",
    "diff_num_users = num_users - filt_num_users\n",
    "perc_diff_users= diff_num_users/num_users *100\n",
    "\n",
    "# Calculating the average number of events per user\n",
    "filt_avg_events_per_user = len(logs_filtered) / filt_num_users\n",
    "diff_avg_events_per_user = avg_events_per_user - filt_avg_events_per_user\n",
    "perc_diff_events_per_user= diff_avg_events_per_user/avg_events_per_user *100\n",
    "\n",
    "# Comparison\n",
    "comparison = pd.DataFrame({'logs':['old' ,'new','difference','percentage_dif'],\n",
    "                          'Number of events' : [num_events,filt_num_events,diff_num_events,perc_diff_events],\n",
    "                          'Number of unique users':[num_users,filt_num_users,diff_num_users,perc_diff_users],\n",
    "                          'Average number of events per user' : [avg_events_per_user,filt_avg_events_per_user,diff_avg_events_per_user,perc_diff_events_per_user]})\n",
    "comparison"
   ]
  },
  {
   "cell_type": "markdown",
   "id": "32a759b1",
   "metadata": {},
   "source": [
    "**Observation**\n",
    "\n",
    "Comparison from filtered and old data difference below 1%. The losses is low and minimal. Therefore, the filtered data is the data that will used for analyse"
   ]
  },
  {
   "cell_type": "markdown",
   "id": "9e5cf803",
   "metadata": {},
   "source": [
    "## Study the experimental groups"
   ]
  },
  {
   "cell_type": "markdown",
   "id": "ebd6b778",
   "metadata": {},
   "source": [
    "Make sure you have users from all three experimental groups."
   ]
  },
  {
   "cell_type": "code",
   "execution_count": 20,
   "id": "5b4b882f",
   "metadata": {
    "ExecuteTime": {
     "end_time": "2023-09-13T01:57:27.897537Z",
     "start_time": "2023-09-13T01:57:27.851919Z"
    }
   },
   "outputs": [
    {
     "data": {
      "text/html": [
       "<div>\n",
       "<style scoped>\n",
       "    .dataframe tbody tr th:only-of-type {\n",
       "        vertical-align: middle;\n",
       "    }\n",
       "\n",
       "    .dataframe tbody tr th {\n",
       "        vertical-align: top;\n",
       "    }\n",
       "\n",
       "    .dataframe thead th {\n",
       "        text-align: right;\n",
       "    }\n",
       "</style>\n",
       "<table border=\"1\" class=\"dataframe\">\n",
       "  <thead>\n",
       "    <tr style=\"text-align: right;\">\n",
       "      <th></th>\n",
       "      <th>exp_id</th>\n",
       "      <th>user_id</th>\n",
       "    </tr>\n",
       "  </thead>\n",
       "  <tbody>\n",
       "    <tr>\n",
       "      <th>0</th>\n",
       "      <td>246</td>\n",
       "      <td>2484</td>\n",
       "    </tr>\n",
       "    <tr>\n",
       "      <th>1</th>\n",
       "      <td>247</td>\n",
       "      <td>2517</td>\n",
       "    </tr>\n",
       "    <tr>\n",
       "      <th>2</th>\n",
       "      <td>248</td>\n",
       "      <td>2537</td>\n",
       "    </tr>\n",
       "  </tbody>\n",
       "</table>\n",
       "</div>"
      ],
      "text/plain": [
       "   exp_id  user_id\n",
       "0     246     2484\n",
       "1     247     2517\n",
       "2     248     2537"
      ]
     },
     "execution_count": 20,
     "metadata": {},
     "output_type": "execute_result"
    }
   ],
   "source": [
    "user_per_groups = logs_filtered.groupby('exp_id').agg({'user_id':'nunique'}).reset_index()\n",
    "user_per_groups"
   ]
  },
  {
   "cell_type": "markdown",
   "id": "38c4a46a",
   "metadata": {},
   "source": [
    "**Observation**\n",
    "\n",
    "The data show that all the three experimental groups have an average 2500 user_id."
   ]
  },
  {
   "cell_type": "markdown",
   "id": "cfba13b1",
   "metadata": {},
   "source": [
    "# Analyse the event funnel"
   ]
  },
  {
   "cell_type": "markdown",
   "id": "102f4e1b",
   "metadata": {},
   "source": [
    "## Review the data"
   ]
  },
  {
   "cell_type": "markdown",
   "id": "b9caafd4",
   "metadata": {},
   "source": [
    "See what events are in the logs and their frequency of occurrence and sort them by frequency"
   ]
  },
  {
   "cell_type": "code",
   "execution_count": 21,
   "id": "4682c638",
   "metadata": {
    "ExecuteTime": {
     "end_time": "2023-09-13T01:57:27.928645Z",
     "start_time": "2023-09-13T01:57:27.899203Z"
    }
   },
   "outputs": [
    {
     "data": {
      "text/html": [
       "<div>\n",
       "<style scoped>\n",
       "    .dataframe tbody tr th:only-of-type {\n",
       "        vertical-align: middle;\n",
       "    }\n",
       "\n",
       "    .dataframe tbody tr th {\n",
       "        vertical-align: top;\n",
       "    }\n",
       "\n",
       "    .dataframe thead th {\n",
       "        text-align: right;\n",
       "    }\n",
       "</style>\n",
       "<table border=\"1\" class=\"dataframe\">\n",
       "  <thead>\n",
       "    <tr style=\"text-align: right;\">\n",
       "      <th></th>\n",
       "      <th>user_id</th>\n",
       "    </tr>\n",
       "    <tr>\n",
       "      <th>event_name</th>\n",
       "      <th></th>\n",
       "    </tr>\n",
       "  </thead>\n",
       "  <tbody>\n",
       "    <tr>\n",
       "      <th>MainScreenAppear</th>\n",
       "      <td>117853</td>\n",
       "    </tr>\n",
       "    <tr>\n",
       "      <th>OffersScreenAppear</th>\n",
       "      <td>46514</td>\n",
       "    </tr>\n",
       "    <tr>\n",
       "      <th>CartScreenAppear</th>\n",
       "      <td>42336</td>\n",
       "    </tr>\n",
       "    <tr>\n",
       "      <th>PaymentScreenSuccessful</th>\n",
       "      <td>33945</td>\n",
       "    </tr>\n",
       "    <tr>\n",
       "      <th>Tutorial</th>\n",
       "      <td>1009</td>\n",
       "    </tr>\n",
       "  </tbody>\n",
       "</table>\n",
       "</div>"
      ],
      "text/plain": [
       "                         user_id\n",
       "event_name                      \n",
       "MainScreenAppear          117853\n",
       "OffersScreenAppear         46514\n",
       "CartScreenAppear           42336\n",
       "PaymentScreenSuccessful    33945\n",
       "Tutorial                    1009"
      ]
     },
     "execution_count": 21,
     "metadata": {},
     "output_type": "execute_result"
    }
   ],
   "source": [
    "freq_occ_events = (logs_filtered.groupby('event_name').agg({'user_id':'count'})).sort_values(by='user_id', ascending = False)\n",
    "freq_occ_events "
   ]
  },
  {
   "cell_type": "markdown",
   "id": "c705ae93",
   "metadata": {},
   "source": [
    "Find the number of users who performed each of these actions and sort the events by the number\n",
    "of users. Then, calculate the proportion of users who performed the action at least once."
   ]
  },
  {
   "cell_type": "code",
   "execution_count": 22,
   "id": "5a422965",
   "metadata": {
    "ExecuteTime": {
     "end_time": "2023-09-13T01:57:28.007526Z",
     "start_time": "2023-09-13T01:57:27.929708Z"
    }
   },
   "outputs": [
    {
     "data": {
      "text/html": [
       "<div>\n",
       "<style scoped>\n",
       "    .dataframe tbody tr th:only-of-type {\n",
       "        vertical-align: middle;\n",
       "    }\n",
       "\n",
       "    .dataframe tbody tr th {\n",
       "        vertical-align: top;\n",
       "    }\n",
       "\n",
       "    .dataframe thead th {\n",
       "        text-align: right;\n",
       "    }\n",
       "</style>\n",
       "<table border=\"1\" class=\"dataframe\">\n",
       "  <thead>\n",
       "    <tr style=\"text-align: right;\">\n",
       "      <th></th>\n",
       "      <th>event_name</th>\n",
       "      <th>num_users</th>\n",
       "    </tr>\n",
       "  </thead>\n",
       "  <tbody>\n",
       "    <tr>\n",
       "      <th>0</th>\n",
       "      <td>MainScreenAppear</td>\n",
       "      <td>7423</td>\n",
       "    </tr>\n",
       "    <tr>\n",
       "      <th>1</th>\n",
       "      <td>OffersScreenAppear</td>\n",
       "      <td>4596</td>\n",
       "    </tr>\n",
       "    <tr>\n",
       "      <th>2</th>\n",
       "      <td>CartScreenAppear</td>\n",
       "      <td>3736</td>\n",
       "    </tr>\n",
       "    <tr>\n",
       "      <th>3</th>\n",
       "      <td>PaymentScreenSuccessful</td>\n",
       "      <td>3540</td>\n",
       "    </tr>\n",
       "    <tr>\n",
       "      <th>4</th>\n",
       "      <td>Tutorial</td>\n",
       "      <td>843</td>\n",
       "    </tr>\n",
       "  </tbody>\n",
       "</table>\n",
       "</div>"
      ],
      "text/plain": [
       "                event_name  num_users\n",
       "0         MainScreenAppear       7423\n",
       "1       OffersScreenAppear       4596\n",
       "2         CartScreenAppear       3736\n",
       "3  PaymentScreenSuccessful       3540\n",
       "4                 Tutorial        843"
      ]
     },
     "execution_count": 22,
     "metadata": {},
     "output_type": "execute_result"
    }
   ],
   "source": [
    "freq_events = (logs_filtered.groupby('event_name').agg({'user_id':'nunique'})).sort_values(by='user_id', ascending = False).reset_index()\n",
    "freq_events.columns = ['event_name','num_users']\n",
    "freq_events"
   ]
  },
  {
   "cell_type": "code",
   "execution_count": 23,
   "id": "9ab41828",
   "metadata": {
    "ExecuteTime": {
     "end_time": "2023-09-13T01:57:28.023344Z",
     "start_time": "2023-09-13T01:57:28.009007Z"
    }
   },
   "outputs": [
    {
     "data": {
      "text/html": [
       "<div>\n",
       "<style scoped>\n",
       "    .dataframe tbody tr th:only-of-type {\n",
       "        vertical-align: middle;\n",
       "    }\n",
       "\n",
       "    .dataframe tbody tr th {\n",
       "        vertical-align: top;\n",
       "    }\n",
       "\n",
       "    .dataframe thead th {\n",
       "        text-align: right;\n",
       "    }\n",
       "</style>\n",
       "<table border=\"1\" class=\"dataframe\">\n",
       "  <thead>\n",
       "    <tr style=\"text-align: right;\">\n",
       "      <th></th>\n",
       "      <th>event_name</th>\n",
       "      <th>num_users</th>\n",
       "      <th>ratio</th>\n",
       "    </tr>\n",
       "  </thead>\n",
       "  <tbody>\n",
       "    <tr>\n",
       "      <th>0</th>\n",
       "      <td>MainScreenAppear</td>\n",
       "      <td>7423</td>\n",
       "      <td>0.984744</td>\n",
       "    </tr>\n",
       "    <tr>\n",
       "      <th>1</th>\n",
       "      <td>OffersScreenAppear</td>\n",
       "      <td>4596</td>\n",
       "      <td>0.609711</td>\n",
       "    </tr>\n",
       "    <tr>\n",
       "      <th>2</th>\n",
       "      <td>CartScreenAppear</td>\n",
       "      <td>3736</td>\n",
       "      <td>0.495622</td>\n",
       "    </tr>\n",
       "    <tr>\n",
       "      <th>3</th>\n",
       "      <td>PaymentScreenSuccessful</td>\n",
       "      <td>3540</td>\n",
       "      <td>0.469621</td>\n",
       "    </tr>\n",
       "    <tr>\n",
       "      <th>4</th>\n",
       "      <td>Tutorial</td>\n",
       "      <td>843</td>\n",
       "      <td>0.111833</td>\n",
       "    </tr>\n",
       "  </tbody>\n",
       "</table>\n",
       "</div>"
      ],
      "text/plain": [
       "                event_name  num_users     ratio\n",
       "0         MainScreenAppear       7423  0.984744\n",
       "1       OffersScreenAppear       4596  0.609711\n",
       "2         CartScreenAppear       3736  0.495622\n",
       "3  PaymentScreenSuccessful       3540  0.469621\n",
       "4                 Tutorial        843  0.111833"
      ]
     },
     "execution_count": 23,
     "metadata": {},
     "output_type": "execute_result"
    }
   ],
   "source": [
    "freq_events['ratio'] = freq_events['num_users']/len(logs_filtered['user_id'].unique())\n",
    "freq_events"
   ]
  },
  {
   "cell_type": "markdown",
   "id": "bf85e953",
   "metadata": {},
   "source": [
    "**Observation**\n",
    "\n",
    "From the table above, the order of action are like this: \n",
    "1) MainScreenAppear\t\n",
    "2) OffersScreenAppear\t\n",
    "3) CartScreenAppear\n",
    "4) PaymentScreenSuccessful\n",
    "5) Tutorial\n",
    "\n",
    "However, the tutorial event seems weirdly at the last because tutorial must be the first. Therefore, the event orders like this  \n",
    "1) Tutorial\n",
    "2) MainScreenAppear\t\n",
    "3) OffersScreenAppear\t\n",
    "4) CartScreenAppear\n",
    "5) PaymentScreenSuccessful\n",
    "\n",
    "The reason why tutorial ratio is less than the second order are because this order are not in a single sequence. Then, tutorial don't need to take  into account when calculating the funnel.\n"
   ]
  },
  {
   "cell_type": "markdown",
   "id": "1416c819",
   "metadata": {},
   "source": [
    "## Analyse sequence of events "
   ]
  },
  {
   "cell_type": "markdown",
   "id": "9d8a32a8",
   "metadata": {},
   "source": [
    "Use the event funnel to find the share of users that proceed from each stage to the next. (For\n",
    "instance, for the sequence of events A → B → C, calculate the ratio of users at stage B to the\n",
    "number of users at stage A and the ratio of users at stage C to the number at stage B.)"
   ]
  },
  {
   "cell_type": "code",
   "execution_count": 24,
   "id": "dbf9105c",
   "metadata": {
    "ExecuteTime": {
     "end_time": "2023-09-13T01:57:28.039665Z",
     "start_time": "2023-09-13T01:57:28.024345Z"
    }
   },
   "outputs": [
    {
     "data": {
      "text/plain": [
       "7551"
      ]
     },
     "execution_count": 24,
     "metadata": {},
     "output_type": "execute_result"
    }
   ],
   "source": [
    "num_users"
   ]
  },
  {
   "cell_type": "code",
   "execution_count": 25,
   "id": "ac23a77b",
   "metadata": {
    "ExecuteTime": {
     "end_time": "2023-09-13T01:57:28.055212Z",
     "start_time": "2023-09-13T01:57:28.040665Z"
    }
   },
   "outputs": [
    {
     "data": {
      "text/html": [
       "<div>\n",
       "<style scoped>\n",
       "    .dataframe tbody tr th:only-of-type {\n",
       "        vertical-align: middle;\n",
       "    }\n",
       "\n",
       "    .dataframe tbody tr th {\n",
       "        vertical-align: top;\n",
       "    }\n",
       "\n",
       "    .dataframe thead th {\n",
       "        text-align: right;\n",
       "    }\n",
       "</style>\n",
       "<table border=\"1\" class=\"dataframe\">\n",
       "  <thead>\n",
       "    <tr style=\"text-align: right;\">\n",
       "      <th></th>\n",
       "      <th>event_name</th>\n",
       "      <th>num_users</th>\n",
       "      <th>ratio</th>\n",
       "      <th>conversion_rate</th>\n",
       "    </tr>\n",
       "  </thead>\n",
       "  <tbody>\n",
       "    <tr>\n",
       "      <th>0</th>\n",
       "      <td>MainScreenAppear</td>\n",
       "      <td>7423</td>\n",
       "      <td>0.984744</td>\n",
       "      <td>1.00</td>\n",
       "    </tr>\n",
       "    <tr>\n",
       "      <th>1</th>\n",
       "      <td>OffersScreenAppear</td>\n",
       "      <td>4596</td>\n",
       "      <td>0.609711</td>\n",
       "      <td>0.62</td>\n",
       "    </tr>\n",
       "    <tr>\n",
       "      <th>2</th>\n",
       "      <td>CartScreenAppear</td>\n",
       "      <td>3736</td>\n",
       "      <td>0.495622</td>\n",
       "      <td>0.81</td>\n",
       "    </tr>\n",
       "    <tr>\n",
       "      <th>3</th>\n",
       "      <td>PaymentScreenSuccessful</td>\n",
       "      <td>3540</td>\n",
       "      <td>0.469621</td>\n",
       "      <td>0.95</td>\n",
       "    </tr>\n",
       "  </tbody>\n",
       "</table>\n",
       "</div>"
      ],
      "text/plain": [
       "                event_name  num_users     ratio  conversion_rate\n",
       "0         MainScreenAppear       7423  0.984744             1.00\n",
       "1       OffersScreenAppear       4596  0.609711             0.62\n",
       "2         CartScreenAppear       3736  0.495622             0.81\n",
       "3  PaymentScreenSuccessful       3540  0.469621             0.95"
      ]
     },
     "execution_count": 25,
     "metadata": {},
     "output_type": "execute_result"
    }
   ],
   "source": [
    "# remove tutorial \n",
    "freq_events.drop([4], axis=0, inplace=True)\n",
    "# Calculate conversion rates for each step of the funnel\n",
    "num_users = freq_events['num_users'].tolist()\n",
    "conversion_rates = [1.0]\n",
    "for i in range(1, len(num_users)):\n",
    "    rate = num_users[i] / num_users[i-1]\n",
    "    conversion_rates.append(round(rate, 2))\n",
    "\n",
    "# Add conversion rates to DataFrame\n",
    "freq_events['conversion_rate'] = conversion_rates\n",
    "freq_events"
   ]
  },
  {
   "cell_type": "markdown",
   "id": "07490697",
   "metadata": {},
   "source": [
    "**Observation**\n",
    "\n",
    "We can see that OffersScreenAppear stage lost the most user. The reason maybe most of the users just browsing the apps and only 62 percent that want to buy from the apps. Then, only 20 percent losses go to the cart and 5 percent loses that cancel the payment.  "
   ]
  },
  {
   "cell_type": "markdown",
   "id": "dab2bd61",
   "metadata": {},
   "source": [
    "## User go through all the events"
   ]
  },
  {
   "cell_type": "markdown",
   "id": "a5756c7d",
   "metadata": {},
   "source": [
    "Lets find share of users that make the entire journey from their first event to payment."
   ]
  },
  {
   "cell_type": "code",
   "execution_count": 26,
   "id": "0931d91a",
   "metadata": {
    "ExecuteTime": {
     "end_time": "2023-09-13T01:57:28.070925Z",
     "start_time": "2023-09-13T01:57:28.056211Z"
    }
   },
   "outputs": [
    {
     "name": "stdout",
     "output_type": "stream",
     "text": [
      "The share of users who make the entire journey from their first event to payment is 0.14.\n"
     ]
    }
   ],
   "source": [
    "conversion_rates = freq_events['ratio'].tolist()\n",
    "overall_conversion_rate = round(conversion_rates[0] * conversion_rates[1] * conversion_rates[2] * conversion_rates[3], 3)\n",
    "\n",
    "# Display overall conversion rate\n",
    "print(f\"The share of users who make the entire journey from their first event to payment is {overall_conversion_rate}.\")"
   ]
  },
  {
   "cell_type": "markdown",
   "id": "34bca592",
   "metadata": {},
   "source": [
    "#  Study the results of the experiment"
   ]
  },
  {
   "cell_type": "markdown",
   "id": "c731336e",
   "metadata": {},
   "source": [
    "## User for each groups"
   ]
  },
  {
   "cell_type": "code",
   "execution_count": 27,
   "id": "bb7b2bdc",
   "metadata": {
    "ExecuteTime": {
     "end_time": "2023-09-13T01:57:28.087520Z",
     "start_time": "2023-09-13T01:57:28.071925Z"
    }
   },
   "outputs": [
    {
     "data": {
      "text/html": [
       "<div>\n",
       "<style scoped>\n",
       "    .dataframe tbody tr th:only-of-type {\n",
       "        vertical-align: middle;\n",
       "    }\n",
       "\n",
       "    .dataframe tbody tr th {\n",
       "        vertical-align: top;\n",
       "    }\n",
       "\n",
       "    .dataframe thead th {\n",
       "        text-align: right;\n",
       "    }\n",
       "</style>\n",
       "<table border=\"1\" class=\"dataframe\">\n",
       "  <thead>\n",
       "    <tr style=\"text-align: right;\">\n",
       "      <th></th>\n",
       "      <th>exp_id</th>\n",
       "      <th>user_id</th>\n",
       "    </tr>\n",
       "  </thead>\n",
       "  <tbody>\n",
       "    <tr>\n",
       "      <th>0</th>\n",
       "      <td>246</td>\n",
       "      <td>2484</td>\n",
       "    </tr>\n",
       "    <tr>\n",
       "      <th>1</th>\n",
       "      <td>247</td>\n",
       "      <td>2517</td>\n",
       "    </tr>\n",
       "    <tr>\n",
       "      <th>2</th>\n",
       "      <td>248</td>\n",
       "      <td>2537</td>\n",
       "    </tr>\n",
       "  </tbody>\n",
       "</table>\n",
       "</div>"
      ],
      "text/plain": [
       "   exp_id  user_id\n",
       "0     246     2484\n",
       "1     247     2517\n",
       "2     248     2537"
      ]
     },
     "execution_count": 27,
     "metadata": {},
     "output_type": "execute_result"
    }
   ],
   "source": [
    "user_per_groups"
   ]
  },
  {
   "cell_type": "markdown",
   "id": "cac7c497",
   "metadata": {},
   "source": [
    "## Find statistical significant (246 & 247)"
   ]
  },
  {
   "cell_type": "markdown",
   "id": "c092ff97",
   "metadata": {},
   "source": [
    "**We have two control groups in the A/A test, where we check our mechanisms and calculations.\n",
    "See if there is a statistically significant difference between samples 246 and 247.**\n",
    "\n",
    "**Select the most popular event. In each of the control groups, find the number of users who\n",
    "performed this action. Find their share. Check whether the difference between the groups is\n",
    "statistically significant. Repeat the procedure for all other events (it will save time if you create a\n",
    "special function for this test). Can you confirm that the groups were split properly?**"
   ]
  },
  {
   "cell_type": "markdown",
   "id": "005afecb",
   "metadata": {},
   "source": [
    "Lets review the user id for each event and groups"
   ]
  },
  {
   "cell_type": "code",
   "execution_count": 28,
   "id": "eb1bb842",
   "metadata": {
    "ExecuteTime": {
     "end_time": "2023-09-13T01:57:28.165865Z",
     "start_time": "2023-09-13T01:57:28.091233Z"
    }
   },
   "outputs": [
    {
     "data": {
      "text/html": [
       "<div>\n",
       "<style scoped>\n",
       "    .dataframe tbody tr th:only-of-type {\n",
       "        vertical-align: middle;\n",
       "    }\n",
       "\n",
       "    .dataframe tbody tr th {\n",
       "        vertical-align: top;\n",
       "    }\n",
       "\n",
       "    .dataframe thead th {\n",
       "        text-align: right;\n",
       "    }\n",
       "</style>\n",
       "<table border=\"1\" class=\"dataframe\">\n",
       "  <thead>\n",
       "    <tr style=\"text-align: right;\">\n",
       "      <th></th>\n",
       "      <th></th>\n",
       "      <th>user_id</th>\n",
       "    </tr>\n",
       "    <tr>\n",
       "      <th>event_name</th>\n",
       "      <th>exp_id</th>\n",
       "      <th></th>\n",
       "    </tr>\n",
       "  </thead>\n",
       "  <tbody>\n",
       "    <tr>\n",
       "      <th rowspan=\"3\" valign=\"top\">CartScreenAppear</th>\n",
       "      <th>246</th>\n",
       "      <td>1266</td>\n",
       "    </tr>\n",
       "    <tr>\n",
       "      <th>247</th>\n",
       "      <td>1239</td>\n",
       "    </tr>\n",
       "    <tr>\n",
       "      <th>248</th>\n",
       "      <td>1231</td>\n",
       "    </tr>\n",
       "    <tr>\n",
       "      <th rowspan=\"3\" valign=\"top\">MainScreenAppear</th>\n",
       "      <th>246</th>\n",
       "      <td>2450</td>\n",
       "    </tr>\n",
       "    <tr>\n",
       "      <th>247</th>\n",
       "      <td>2479</td>\n",
       "    </tr>\n",
       "    <tr>\n",
       "      <th>248</th>\n",
       "      <td>2494</td>\n",
       "    </tr>\n",
       "    <tr>\n",
       "      <th rowspan=\"3\" valign=\"top\">OffersScreenAppear</th>\n",
       "      <th>246</th>\n",
       "      <td>1542</td>\n",
       "    </tr>\n",
       "    <tr>\n",
       "      <th>247</th>\n",
       "      <td>1523</td>\n",
       "    </tr>\n",
       "    <tr>\n",
       "      <th>248</th>\n",
       "      <td>1531</td>\n",
       "    </tr>\n",
       "    <tr>\n",
       "      <th rowspan=\"3\" valign=\"top\">PaymentScreenSuccessful</th>\n",
       "      <th>246</th>\n",
       "      <td>1200</td>\n",
       "    </tr>\n",
       "    <tr>\n",
       "      <th>247</th>\n",
       "      <td>1158</td>\n",
       "    </tr>\n",
       "    <tr>\n",
       "      <th>248</th>\n",
       "      <td>1182</td>\n",
       "    </tr>\n",
       "    <tr>\n",
       "      <th rowspan=\"3\" valign=\"top\">Tutorial</th>\n",
       "      <th>246</th>\n",
       "      <td>278</td>\n",
       "    </tr>\n",
       "    <tr>\n",
       "      <th>247</th>\n",
       "      <td>284</td>\n",
       "    </tr>\n",
       "    <tr>\n",
       "      <th>248</th>\n",
       "      <td>281</td>\n",
       "    </tr>\n",
       "  </tbody>\n",
       "</table>\n",
       "</div>"
      ],
      "text/plain": [
       "                                user_id\n",
       "event_name              exp_id         \n",
       "CartScreenAppear        246        1266\n",
       "                        247        1239\n",
       "                        248        1231\n",
       "MainScreenAppear        246        2450\n",
       "                        247        2479\n",
       "                        248        2494\n",
       "OffersScreenAppear      246        1542\n",
       "                        247        1523\n",
       "                        248        1531\n",
       "PaymentScreenSuccessful 246        1200\n",
       "                        247        1158\n",
       "                        248        1182\n",
       "Tutorial                246         278\n",
       "                        247         284\n",
       "                        248         281"
      ]
     },
     "execution_count": 28,
     "metadata": {},
     "output_type": "execute_result"
    }
   ],
   "source": [
    "user_per_event_groups_index = logs_filtered.groupby(['event_name','exp_id']).agg({'user_id':'nunique'})\n",
    "user_per_event_groups_index"
   ]
  },
  {
   "cell_type": "code",
   "execution_count": 29,
   "id": "9bb36f8d",
   "metadata": {
    "ExecuteTime": {
     "end_time": "2023-09-13T01:57:28.181914Z",
     "start_time": "2023-09-13T01:57:28.167367Z"
    }
   },
   "outputs": [],
   "source": [
    "user_per_event_groups = user_per_event_groups_index.reset_index()"
   ]
  },
  {
   "cell_type": "markdown",
   "id": "33a26c93",
   "metadata": {},
   "source": [
    "## A/A test between 246 and 247"
   ]
  },
  {
   "cell_type": "markdown",
   "id": "5e1e18fd",
   "metadata": {},
   "source": [
    "We have two control groups in the A/A test, where we check our mechanisms and calculations. Lets see if there is a statistically significant difference between samples 246 and 247."
   ]
  },
  {
   "cell_type": "code",
   "execution_count": 30,
   "id": "d77cd5d4",
   "metadata": {
    "ExecuteTime": {
     "end_time": "2023-09-13T01:57:28.197507Z",
     "start_time": "2023-09-13T01:57:28.183914Z"
    },
    "scrolled": true
   },
   "outputs": [
    {
     "name": "stdout",
     "output_type": "stream",
     "text": [
      "p-value:  0.6756217702005545\n",
      "Failed to reject the null hypothesis: there is no reason to consider the proportions different\n"
     ]
    }
   ],
   "source": [
    "alpha = .01 # significance level\n",
    "\n",
    "trials_246 = user_per_groups.loc[user_per_groups['exp_id'] == 246, 'user_id'].iloc[0]\n",
    "trials_247 = user_per_groups.loc[user_per_groups['exp_id'] == 247, 'user_id'].iloc[0]\n",
    "purchase_246 = user_per_event_groups.loc[((user_per_event_groups['exp_id'] == 246)&(user_per_event_groups['event_name'] == 'MainScreenAppear')), 'user_id'].iloc[0]\n",
    "purchase_247 = user_per_event_groups.loc[((user_per_event_groups['exp_id'] == 247)&(user_per_event_groups['event_name'] == 'MainScreenAppear')), 'user_id'].iloc[0]\n",
    "\n",
    "purchases = np.array([purchase_246, purchase_247])\n",
    "trials = np.array([trials_246, trials_247])\n",
    "\n",
    "p1 = purchases[0]/trials[0]\n",
    "p2 = purchases[1]/trials[1]\n",
    "\n",
    "p_combined = (purchases[0] + purchases[1]) / (trials[0] + trials[1])\n",
    "difference = p1 - p2 \n",
    "\n",
    "z_value = difference / math.sqrt(p_combined * (1 - p_combined) * (1/trials[0] + 1/trials[1]))\n",
    "\n",
    "distr = st.norm(0, 1)  \n",
    "\n",
    "p_value = (1 - distr.cdf(abs(z_value))) * 2\n",
    "\n",
    "print('p-value: ', p_value)\n",
    "\n",
    "if (p_value < alpha):\n",
    "    print(\"Rejecting the null hypothesis: there is a significant difference between the proportions\")\n",
    "else:\n",
    "    print(\"Failed to reject the null hypothesis: there is no reason to consider the proportions different\")"
   ]
  },
  {
   "cell_type": "markdown",
   "id": "c2e74243",
   "metadata": {},
   "source": [
    "**Observation**\n",
    "\n",
    "The sample group for 246 and 247 have the same proportion. Therefore, its failed to reject the null hypothesis where's there is no reason to consider the proportions different"
   ]
  },
  {
   "cell_type": "markdown",
   "id": "868973d8",
   "metadata": {},
   "source": [
    "## Statistical significant for all events"
   ]
  },
  {
   "cell_type": "code",
   "execution_count": 31,
   "id": "4a7c9f1a",
   "metadata": {
    "ExecuteTime": {
     "end_time": "2023-09-13T01:57:28.212731Z",
     "start_time": "2023-09-13T01:57:28.198508Z"
    }
   },
   "outputs": [],
   "source": [
    "def stat_sign (data1,data2,event,contrl1,contrl2,alpha):\n",
    "    order1 = data2.loc[((data2['exp_id'] == contrl1)&(data2['event_name'] == event)), 'user_id'].iloc[0]\n",
    "    order2 = data2.loc[((data2['exp_id'] == contrl2)&(data2['event_name'] == event)), 'user_id'].iloc[0]\n",
    "    \n",
    "    user1 = data1.loc[data1['exp_id'] == contrl1, 'user_id'].iloc[0]\n",
    "    user2 = data1.loc[data1['exp_id'] == contrl2, 'user_id'].iloc[0]\n",
    "    \n",
    "    purchase1 = order1/user1\n",
    "    purchase2 = order2/user2\n",
    "    trials1 = user1\n",
    "    trials2 = user2\n",
    "\n",
    "    print (f'Purchases in {event} at control group {contrl1} is {purchase1}')\n",
    "    print (f'Purchases in {event} at control group {contrl2} is {purchase2}')\n",
    "    \n",
    "    p1 = order1/trials1\n",
    "    p2 = order2/trials2\n",
    "\n",
    "    p_combined1 = (order1 + order2) / (trials1 + trials2)\n",
    "    difference1 = p1 - p2 \n",
    "    \n",
    "    z_value1 = difference1 / math.sqrt(p_combined1 * (1 - p_combined1) * (1/trials1 + 1/trials2))\n",
    "    distr = st.norm(0, 1)  \n",
    "    \n",
    "    p_value = (1 - distr.cdf(abs(z_value1))) * 2\n",
    "\n",
    "    print('p-value: ', p_value)\n",
    "\n",
    "    if (p_value < alpha):\n",
    "        print(\"Rejecting the null hypothesis: there is a significant difference between the proportions\")\n",
    "    else:\n",
    "        print(\"Failed to reject the null hypothesis: there is no reason to consider the proportions different\")"
   ]
  },
  {
   "cell_type": "code",
   "execution_count": 32,
   "id": "2fdebda9",
   "metadata": {
    "ExecuteTime": {
     "end_time": "2023-09-13T01:57:28.228273Z",
     "start_time": "2023-09-13T01:57:28.213730Z"
    }
   },
   "outputs": [
    {
     "name": "stdout",
     "output_type": "stream",
     "text": [
      "Purchases in CartScreenAppear at control group 246 is 0.5096618357487923\n",
      "Purchases in CartScreenAppear at control group 247 is 0.4922526817640048\n",
      "p-value:  0.2182812140633792\n",
      "Failed to reject the null hypothesis: there is no reason to consider the proportions different\n",
      "\n",
      "Purchases in MainScreenAppear at control group 246 is 0.9863123993558777\n",
      "Purchases in MainScreenAppear at control group 247 is 0.9849026618990863\n",
      "p-value:  0.6756217702005545\n",
      "Failed to reject the null hypothesis: there is no reason to consider the proportions different\n",
      "\n",
      "Purchases in OffersScreenAppear at control group 246 is 0.6207729468599034\n",
      "Purchases in OffersScreenAppear at control group 247 is 0.6050854191497815\n",
      "p-value:  0.2548030321293888\n",
      "Failed to reject the null hypothesis: there is no reason to consider the proportions different\n",
      "\n",
      "Purchases in PaymentScreenSuccessful at control group 246 is 0.4830917874396135\n",
      "Purchases in PaymentScreenSuccessful at control group 247 is 0.4600715137067938\n",
      "p-value:  0.10298394982948822\n",
      "Failed to reject the null hypothesis: there is no reason to consider the proportions different\n",
      "\n",
      "Purchases in Tutorial at control group 246 is 0.11191626409017713\n",
      "Purchases in Tutorial at control group 247 is 0.11283273738577672\n",
      "p-value:  0.9182790262812368\n",
      "Failed to reject the null hypothesis: there is no reason to consider the proportions different\n",
      "\n"
     ]
    }
   ],
   "source": [
    "events = user_per_event_groups['event_name'].unique()\n",
    "for event in list(events):\n",
    "    stat_sign (user_per_groups,user_per_event_groups,event,246,247,0.05)\n",
    "    print()"
   ]
  },
  {
   "cell_type": "markdown",
   "id": "7e157771",
   "metadata": {},
   "source": [
    "**Observation**\n",
    "\n",
    "We can see the 'MainScreenAppear' events is the most popular events for groups 246 and 247. Both groups reach 98% attendance in this events. The sample group for 246 and 247 have the same proportion and its failed to reject the null hypothesis"
   ]
  },
  {
   "cell_type": "markdown",
   "id": "66a6f82d",
   "metadata": {},
   "source": [
    "## Statistical significant for test groups"
   ]
  },
  {
   "cell_type": "code",
   "execution_count": 33,
   "id": "2456d94e",
   "metadata": {
    "ExecuteTime": {
     "end_time": "2023-09-13T01:57:28.243495Z",
     "start_time": "2023-09-13T01:57:28.229273Z"
    }
   },
   "outputs": [
    {
     "data": {
      "text/html": [
       "<div>\n",
       "<style scoped>\n",
       "    .dataframe tbody tr th:only-of-type {\n",
       "        vertical-align: middle;\n",
       "    }\n",
       "\n",
       "    .dataframe tbody tr th {\n",
       "        vertical-align: top;\n",
       "    }\n",
       "\n",
       "    .dataframe thead th {\n",
       "        text-align: right;\n",
       "    }\n",
       "</style>\n",
       "<table border=\"1\" class=\"dataframe\">\n",
       "  <thead>\n",
       "    <tr style=\"text-align: right;\">\n",
       "      <th></th>\n",
       "      <th></th>\n",
       "      <th>user_id</th>\n",
       "    </tr>\n",
       "    <tr>\n",
       "      <th>event_name</th>\n",
       "      <th>exp_id</th>\n",
       "      <th></th>\n",
       "    </tr>\n",
       "  </thead>\n",
       "  <tbody>\n",
       "    <tr>\n",
       "      <th rowspan=\"3\" valign=\"top\">CartScreenAppear</th>\n",
       "      <th>246</th>\n",
       "      <td>1266</td>\n",
       "    </tr>\n",
       "    <tr>\n",
       "      <th>247</th>\n",
       "      <td>1239</td>\n",
       "    </tr>\n",
       "    <tr>\n",
       "      <th>248</th>\n",
       "      <td>1231</td>\n",
       "    </tr>\n",
       "    <tr>\n",
       "      <th rowspan=\"3\" valign=\"top\">MainScreenAppear</th>\n",
       "      <th>246</th>\n",
       "      <td>2450</td>\n",
       "    </tr>\n",
       "    <tr>\n",
       "      <th>247</th>\n",
       "      <td>2479</td>\n",
       "    </tr>\n",
       "    <tr>\n",
       "      <th>248</th>\n",
       "      <td>2494</td>\n",
       "    </tr>\n",
       "    <tr>\n",
       "      <th rowspan=\"3\" valign=\"top\">OffersScreenAppear</th>\n",
       "      <th>246</th>\n",
       "      <td>1542</td>\n",
       "    </tr>\n",
       "    <tr>\n",
       "      <th>247</th>\n",
       "      <td>1523</td>\n",
       "    </tr>\n",
       "    <tr>\n",
       "      <th>248</th>\n",
       "      <td>1531</td>\n",
       "    </tr>\n",
       "    <tr>\n",
       "      <th rowspan=\"3\" valign=\"top\">PaymentScreenSuccessful</th>\n",
       "      <th>246</th>\n",
       "      <td>1200</td>\n",
       "    </tr>\n",
       "    <tr>\n",
       "      <th>247</th>\n",
       "      <td>1158</td>\n",
       "    </tr>\n",
       "    <tr>\n",
       "      <th>248</th>\n",
       "      <td>1182</td>\n",
       "    </tr>\n",
       "    <tr>\n",
       "      <th rowspan=\"3\" valign=\"top\">Tutorial</th>\n",
       "      <th>246</th>\n",
       "      <td>278</td>\n",
       "    </tr>\n",
       "    <tr>\n",
       "      <th>247</th>\n",
       "      <td>284</td>\n",
       "    </tr>\n",
       "    <tr>\n",
       "      <th>248</th>\n",
       "      <td>281</td>\n",
       "    </tr>\n",
       "  </tbody>\n",
       "</table>\n",
       "</div>"
      ],
      "text/plain": [
       "                                user_id\n",
       "event_name              exp_id         \n",
       "CartScreenAppear        246        1266\n",
       "                        247        1239\n",
       "                        248        1231\n",
       "MainScreenAppear        246        2450\n",
       "                        247        2479\n",
       "                        248        2494\n",
       "OffersScreenAppear      246        1542\n",
       "                        247        1523\n",
       "                        248        1531\n",
       "PaymentScreenSuccessful 246        1200\n",
       "                        247        1158\n",
       "                        248        1182\n",
       "Tutorial                246         278\n",
       "                        247         284\n",
       "                        248         281"
      ]
     },
     "execution_count": 33,
     "metadata": {},
     "output_type": "execute_result"
    }
   ],
   "source": [
    "user_per_event_groups_index"
   ]
  },
  {
   "cell_type": "code",
   "execution_count": 34,
   "id": "f5ca0cf7",
   "metadata": {
    "ExecuteTime": {
     "end_time": "2023-09-13T01:57:28.258881Z",
     "start_time": "2023-09-13T01:57:28.244494Z"
    }
   },
   "outputs": [
    {
     "data": {
      "text/html": [
       "<div>\n",
       "<style scoped>\n",
       "    .dataframe tbody tr th:only-of-type {\n",
       "        vertical-align: middle;\n",
       "    }\n",
       "\n",
       "    .dataframe tbody tr th {\n",
       "        vertical-align: top;\n",
       "    }\n",
       "\n",
       "    .dataframe thead th {\n",
       "        text-align: right;\n",
       "    }\n",
       "</style>\n",
       "<table border=\"1\" class=\"dataframe\">\n",
       "  <thead>\n",
       "    <tr style=\"text-align: right;\">\n",
       "      <th></th>\n",
       "      <th>exp_id</th>\n",
       "      <th>user_id</th>\n",
       "    </tr>\n",
       "  </thead>\n",
       "  <tbody>\n",
       "    <tr>\n",
       "      <th>0</th>\n",
       "      <td>246</td>\n",
       "      <td>2484</td>\n",
       "    </tr>\n",
       "    <tr>\n",
       "      <th>1</th>\n",
       "      <td>247</td>\n",
       "      <td>2517</td>\n",
       "    </tr>\n",
       "    <tr>\n",
       "      <th>2</th>\n",
       "      <td>248</td>\n",
       "      <td>2537</td>\n",
       "    </tr>\n",
       "  </tbody>\n",
       "</table>\n",
       "</div>"
      ],
      "text/plain": [
       "   exp_id  user_id\n",
       "0     246     2484\n",
       "1     247     2517\n",
       "2     248     2537"
      ]
     },
     "execution_count": 34,
     "metadata": {},
     "output_type": "execute_result"
    }
   ],
   "source": [
    "user_per_groups"
   ]
  },
  {
   "cell_type": "code",
   "execution_count": 35,
   "id": "95a85db4",
   "metadata": {
    "ExecuteTime": {
     "end_time": "2023-09-13T01:57:28.274100Z",
     "start_time": "2023-09-13T01:57:28.260384Z"
    }
   },
   "outputs": [
    {
     "data": {
      "text/html": [
       "<div>\n",
       "<style scoped>\n",
       "    .dataframe tbody tr th:only-of-type {\n",
       "        vertical-align: middle;\n",
       "    }\n",
       "\n",
       "    .dataframe tbody tr th {\n",
       "        vertical-align: top;\n",
       "    }\n",
       "\n",
       "    .dataframe thead th {\n",
       "        text-align: right;\n",
       "    }\n",
       "</style>\n",
       "<table border=\"1\" class=\"dataframe\">\n",
       "  <thead>\n",
       "    <tr style=\"text-align: right;\">\n",
       "      <th></th>\n",
       "      <th>event_name</th>\n",
       "      <th>exp_id</th>\n",
       "      <th>user_id</th>\n",
       "    </tr>\n",
       "  </thead>\n",
       "  <tbody>\n",
       "    <tr>\n",
       "      <th>0</th>\n",
       "      <td>CartScreenAppear</td>\n",
       "      <td>246</td>\n",
       "      <td>1266</td>\n",
       "    </tr>\n",
       "    <tr>\n",
       "      <th>1</th>\n",
       "      <td>CartScreenAppear</td>\n",
       "      <td>247</td>\n",
       "      <td>1239</td>\n",
       "    </tr>\n",
       "    <tr>\n",
       "      <th>2</th>\n",
       "      <td>CartScreenAppear</td>\n",
       "      <td>248</td>\n",
       "      <td>1231</td>\n",
       "    </tr>\n",
       "    <tr>\n",
       "      <th>3</th>\n",
       "      <td>MainScreenAppear</td>\n",
       "      <td>246</td>\n",
       "      <td>2450</td>\n",
       "    </tr>\n",
       "    <tr>\n",
       "      <th>4</th>\n",
       "      <td>MainScreenAppear</td>\n",
       "      <td>247</td>\n",
       "      <td>2479</td>\n",
       "    </tr>\n",
       "    <tr>\n",
       "      <th>5</th>\n",
       "      <td>MainScreenAppear</td>\n",
       "      <td>248</td>\n",
       "      <td>2494</td>\n",
       "    </tr>\n",
       "    <tr>\n",
       "      <th>6</th>\n",
       "      <td>OffersScreenAppear</td>\n",
       "      <td>246</td>\n",
       "      <td>1542</td>\n",
       "    </tr>\n",
       "    <tr>\n",
       "      <th>7</th>\n",
       "      <td>OffersScreenAppear</td>\n",
       "      <td>247</td>\n",
       "      <td>1523</td>\n",
       "    </tr>\n",
       "    <tr>\n",
       "      <th>8</th>\n",
       "      <td>OffersScreenAppear</td>\n",
       "      <td>248</td>\n",
       "      <td>1531</td>\n",
       "    </tr>\n",
       "    <tr>\n",
       "      <th>9</th>\n",
       "      <td>PaymentScreenSuccessful</td>\n",
       "      <td>246</td>\n",
       "      <td>1200</td>\n",
       "    </tr>\n",
       "    <tr>\n",
       "      <th>10</th>\n",
       "      <td>PaymentScreenSuccessful</td>\n",
       "      <td>247</td>\n",
       "      <td>1158</td>\n",
       "    </tr>\n",
       "    <tr>\n",
       "      <th>11</th>\n",
       "      <td>PaymentScreenSuccessful</td>\n",
       "      <td>248</td>\n",
       "      <td>1182</td>\n",
       "    </tr>\n",
       "    <tr>\n",
       "      <th>12</th>\n",
       "      <td>Tutorial</td>\n",
       "      <td>246</td>\n",
       "      <td>278</td>\n",
       "    </tr>\n",
       "    <tr>\n",
       "      <th>13</th>\n",
       "      <td>Tutorial</td>\n",
       "      <td>247</td>\n",
       "      <td>284</td>\n",
       "    </tr>\n",
       "    <tr>\n",
       "      <th>14</th>\n",
       "      <td>Tutorial</td>\n",
       "      <td>248</td>\n",
       "      <td>281</td>\n",
       "    </tr>\n",
       "  </tbody>\n",
       "</table>\n",
       "</div>"
      ],
      "text/plain": [
       "                 event_name  exp_id  user_id\n",
       "0          CartScreenAppear     246     1266\n",
       "1          CartScreenAppear     247     1239\n",
       "2          CartScreenAppear     248     1231\n",
       "3          MainScreenAppear     246     2450\n",
       "4          MainScreenAppear     247     2479\n",
       "5          MainScreenAppear     248     2494\n",
       "6        OffersScreenAppear     246     1542\n",
       "7        OffersScreenAppear     247     1523\n",
       "8        OffersScreenAppear     248     1531\n",
       "9   PaymentScreenSuccessful     246     1200\n",
       "10  PaymentScreenSuccessful     247     1158\n",
       "11  PaymentScreenSuccessful     248     1182\n",
       "12                 Tutorial     246      278\n",
       "13                 Tutorial     247      284\n",
       "14                 Tutorial     248      281"
      ]
     },
     "execution_count": 35,
     "metadata": {},
     "output_type": "execute_result"
    }
   ],
   "source": [
    "user_per_event_groups"
   ]
  },
  {
   "cell_type": "code",
   "execution_count": 36,
   "id": "42fb7a76",
   "metadata": {
    "ExecuteTime": {
     "end_time": "2023-09-13T01:57:28.289066Z",
     "start_time": "2023-09-13T01:57:28.275100Z"
    }
   },
   "outputs": [
    {
     "name": "stdout",
     "output_type": "stream",
     "text": [
      "Purchases in CartScreenAppear at control group 246 is 0.5096618357487923\n",
      "Purchases in CartScreenAppear at control group 248 is 0.48521876231769806\n",
      "p-value:  0.08328412977507749\n",
      "Failed to reject the null hypothesis: there is no reason to consider the proportions different\n",
      "\n",
      "Purchases in MainScreenAppear at control group 246 is 0.9863123993558777\n",
      "Purchases in MainScreenAppear at control group 248 is 0.9830508474576272\n",
      "p-value:  0.34705881021236484\n",
      "Failed to reject the null hypothesis: there is no reason to consider the proportions different\n",
      "\n",
      "Purchases in OffersScreenAppear at control group 246 is 0.6207729468599034\n",
      "Purchases in OffersScreenAppear at control group 248 is 0.6034686637761135\n",
      "p-value:  0.20836205402738917\n",
      "Failed to reject the null hypothesis: there is no reason to consider the proportions different\n",
      "\n",
      "Purchases in PaymentScreenSuccessful at control group 246 is 0.4830917874396135\n",
      "Purchases in PaymentScreenSuccessful at control group 248 is 0.4659046117461569\n",
      "p-value:  0.22269358994682742\n",
      "Failed to reject the null hypothesis: there is no reason to consider the proportions different\n",
      "\n",
      "Purchases in Tutorial at control group 246 is 0.11191626409017713\n",
      "Purchases in Tutorial at control group 248 is 0.11076074103271581\n",
      "p-value:  0.8964489622133207\n",
      "Failed to reject the null hypothesis: there is no reason to consider the proportions different\n",
      "\n"
     ]
    }
   ],
   "source": [
    "for event in list(events):\n",
    "    stat_sign (user_per_groups,user_per_event_groups,event,246,248,0.05)\n",
    "    print()"
   ]
  },
  {
   "cell_type": "code",
   "execution_count": 37,
   "id": "cfd8db4c",
   "metadata": {
    "ExecuteTime": {
     "end_time": "2023-09-13T01:57:28.304164Z",
     "start_time": "2023-09-13T01:57:28.290065Z"
    }
   },
   "outputs": [
    {
     "name": "stdout",
     "output_type": "stream",
     "text": [
      "Purchases in CartScreenAppear at control group 247 is 0.4922526817640048\n",
      "Purchases in CartScreenAppear at control group 248 is 0.48521876231769806\n",
      "p-value:  0.6169517476996997\n",
      "Failed to reject the null hypothesis: there is no reason to consider the proportions different\n",
      "\n",
      "Purchases in MainScreenAppear at control group 247 is 0.9849026618990863\n",
      "Purchases in MainScreenAppear at control group 248 is 0.9830508474576272\n",
      "p-value:  0.6001661582453706\n",
      "Failed to reject the null hypothesis: there is no reason to consider the proportions different\n",
      "\n",
      "Purchases in OffersScreenAppear at control group 247 is 0.6050854191497815\n",
      "Purchases in OffersScreenAppear at control group 248 is 0.6034686637761135\n",
      "p-value:  0.9064474651756644\n",
      "Failed to reject the null hypothesis: there is no reason to consider the proportions different\n",
      "\n",
      "Purchases in PaymentScreenSuccessful at control group 247 is 0.4600715137067938\n",
      "Purchases in PaymentScreenSuccessful at control group 248 is 0.4659046117461569\n",
      "p-value:  0.6775413642906454\n",
      "Failed to reject the null hypothesis: there is no reason to consider the proportions different\n",
      "\n",
      "Purchases in Tutorial at control group 247 is 0.11283273738577672\n",
      "Purchases in Tutorial at control group 248 is 0.11076074103271581\n",
      "p-value:  0.8151967015119994\n",
      "Failed to reject the null hypothesis: there is no reason to consider the proportions different\n",
      "\n"
     ]
    }
   ],
   "source": [
    "for event in list(events):\n",
    "    stat_sign (user_per_groups,user_per_event_groups,event,247,248,0.05)\n",
    "    print()"
   ]
  },
  {
   "cell_type": "markdown",
   "id": "1e87eb29",
   "metadata": {},
   "source": [
    "**Conclusion** \n",
    "\n",
    "The p-value for sample 247-248 is higher that sample 246-248. However, it still failed to reject the null hypothesis for both sample 246 and 247 with sample 248. There is no reason to consider the proportions different."
   ]
  },
  {
   "cell_type": "markdown",
   "id": "44e69bb2",
   "metadata": {},
   "source": [
    "## Statistical significant with different significant level"
   ]
  },
  {
   "cell_type": "markdown",
   "id": "3095ba67",
   "metadata": {},
   "source": [
    "Set the significant level to 0.1"
   ]
  },
  {
   "cell_type": "code",
   "execution_count": 38,
   "id": "1840c34d",
   "metadata": {
    "ExecuteTime": {
     "end_time": "2023-09-13T01:57:28.319499Z",
     "start_time": "2023-09-13T01:57:28.305165Z"
    }
   },
   "outputs": [
    {
     "name": "stdout",
     "output_type": "stream",
     "text": [
      "Purchases in CartScreenAppear at control group 246 is 0.5096618357487923\n",
      "Purchases in CartScreenAppear at control group 248 is 0.48521876231769806\n",
      "p-value:  0.08328412977507749\n",
      "Rejecting the null hypothesis: there is a significant difference between the proportions\n",
      "\n",
      "Purchases in MainScreenAppear at control group 246 is 0.9863123993558777\n",
      "Purchases in MainScreenAppear at control group 248 is 0.9830508474576272\n",
      "p-value:  0.34705881021236484\n",
      "Failed to reject the null hypothesis: there is no reason to consider the proportions different\n",
      "\n",
      "Purchases in OffersScreenAppear at control group 246 is 0.6207729468599034\n",
      "Purchases in OffersScreenAppear at control group 248 is 0.6034686637761135\n",
      "p-value:  0.20836205402738917\n",
      "Failed to reject the null hypothesis: there is no reason to consider the proportions different\n",
      "\n",
      "Purchases in PaymentScreenSuccessful at control group 246 is 0.4830917874396135\n",
      "Purchases in PaymentScreenSuccessful at control group 248 is 0.4659046117461569\n",
      "p-value:  0.22269358994682742\n",
      "Failed to reject the null hypothesis: there is no reason to consider the proportions different\n",
      "\n",
      "Purchases in Tutorial at control group 246 is 0.11191626409017713\n",
      "Purchases in Tutorial at control group 248 is 0.11076074103271581\n",
      "p-value:  0.8964489622133207\n",
      "Failed to reject the null hypothesis: there is no reason to consider the proportions different\n",
      "\n"
     ]
    }
   ],
   "source": [
    "for event in list(events):\n",
    "    stat_sign (user_per_groups,user_per_event_groups,event,246,248,0.1)\n",
    "    print()"
   ]
  },
  {
   "cell_type": "code",
   "execution_count": 39,
   "id": "28cad57b",
   "metadata": {
    "ExecuteTime": {
     "end_time": "2023-09-13T01:57:28.335037Z",
     "start_time": "2023-09-13T01:57:28.320499Z"
    }
   },
   "outputs": [
    {
     "name": "stdout",
     "output_type": "stream",
     "text": [
      "Purchases in CartScreenAppear at control group 247 is 0.4922526817640048\n",
      "Purchases in CartScreenAppear at control group 248 is 0.48521876231769806\n",
      "p-value:  0.6169517476996997\n",
      "Failed to reject the null hypothesis: there is no reason to consider the proportions different\n",
      "\n",
      "Purchases in MainScreenAppear at control group 247 is 0.9849026618990863\n",
      "Purchases in MainScreenAppear at control group 248 is 0.9830508474576272\n",
      "p-value:  0.6001661582453706\n",
      "Failed to reject the null hypothesis: there is no reason to consider the proportions different\n",
      "\n",
      "Purchases in OffersScreenAppear at control group 247 is 0.6050854191497815\n",
      "Purchases in OffersScreenAppear at control group 248 is 0.6034686637761135\n",
      "p-value:  0.9064474651756644\n",
      "Failed to reject the null hypothesis: there is no reason to consider the proportions different\n",
      "\n",
      "Purchases in PaymentScreenSuccessful at control group 247 is 0.4600715137067938\n",
      "Purchases in PaymentScreenSuccessful at control group 248 is 0.4659046117461569\n",
      "p-value:  0.6775413642906454\n",
      "Failed to reject the null hypothesis: there is no reason to consider the proportions different\n",
      "\n",
      "Purchases in Tutorial at control group 247 is 0.11283273738577672\n",
      "Purchases in Tutorial at control group 248 is 0.11076074103271581\n",
      "p-value:  0.8151967015119994\n",
      "Failed to reject the null hypothesis: there is no reason to consider the proportions different\n",
      "\n"
     ]
    }
   ],
   "source": [
    "for event in list(events):\n",
    "    stat_sign (user_per_groups,user_per_event_groups,event,247,248,0.1)\n",
    "    print()"
   ]
  },
  {
   "cell_type": "markdown",
   "id": "12663dd1",
   "metadata": {},
   "source": [
    "**Conclusion**\n",
    "\n",
    "Before, we have test 10 tests to find the statistical different with significant level 0.05 and all are failed to reject the hypothesis. Now, the new 10 tests with the significant level is 0.1 and show 1 false. By increasing the significant level, it more likely to reject the null hypothesis and conclude that there is a significant difference. It also means that 'CartScreenAppear' events for sample 246-248 have a 10% difference. For this project, significant level 0.1 is the best choice if we want to see clearly if any chance have the risk in the change happen between the control data and the experiment data."
   ]
  },
  {
   "cell_type": "markdown",
   "id": "51a0e402",
   "metadata": {},
   "source": [
    "# Overall Conclusion"
   ]
  },
  {
   "cell_type": "markdown",
   "id": "d0410e4f",
   "metadata": {},
   "source": [
    "**Summary**\n",
    "\n",
    "sales funnel\n",
    "- the is not a single sequence. It can be assumed that the 'Totorial' event can be skip.\n",
    "- the 'OffersScreenAppear' event loss 38% participant from the first event. This part may can be improvise to increase the percentage.\n",
    "- users who make the entire journey from their first event to payment is only 14%. Increasing this percentage can helps to increase the change for the user to buy in the apps.\n",
    "\n",
    "\n",
    "A/A test\n",
    "- Comparison between group sample 246 and 247\n",
    "- Purchasing in group 246 is slightly higher than group 247\n",
    "- However there are no statistical significant difference between both sample if we set the significance level 0.05 which mean the difference is below 5%.\n",
    "\n",
    "A/B test\n",
    "- Comparison between group sample 246 and 247 and comparison between group sample 246 and 247.\n",
    "- All the purchasing(participant) for all event show 246 and 247 is better that 248 but only the 'PaymentScreenSuccessful' event got slighly higher. \n",
    "- However, there have statistical significant difference between both sample if we set the significance level 0.1 which  10% have the diffencence between both group.\n",
    "\n",
    "**Conclusion**\n",
    "\n",
    "From the A/A/B tests, the old font show the slighly better result compare to the new fonts for the time period 1 week. However, user might need a time to change and compatible with the new fonts. To lower the risk for the next time period. its better to stick with the old fonts. A/A/B test should be stop here to lower the chance to get worse consequences. \n"
   ]
  }
 ],
 "metadata": {
  "kernelspec": {
   "display_name": "Python 3 (ipykernel)",
   "language": "python",
   "name": "python3"
  },
  "language_info": {
   "codemirror_mode": {
    "name": "ipython",
    "version": 3
   },
   "file_extension": ".py",
   "mimetype": "text/x-python",
   "name": "python",
   "nbconvert_exporter": "python",
   "pygments_lexer": "ipython3",
   "version": "3.10.9"
  },
  "nbTranslate": {
   "displayLangs": [
    "*"
   ],
   "hotkey": "alt-t",
   "langInMainMenu": true,
   "sourceLang": "en",
   "targetLang": "fr",
   "useGoogleTranslate": true
  },
  "toc": {
   "base_numbering": 1,
   "nav_menu": {},
   "number_sections": true,
   "sideBar": true,
   "skip_h1_title": false,
   "title_cell": "Table of Contents",
   "title_sidebar": "Contents",
   "toc_cell": false,
   "toc_position": {
    "height": "calc(100% - 180px)",
    "left": "10px",
    "top": "150px",
    "width": "165px"
   },
   "toc_section_display": true,
   "toc_window_display": false
  }
 },
 "nbformat": 4,
 "nbformat_minor": 5
}
